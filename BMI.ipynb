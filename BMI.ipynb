{
 "cells": [
  {
   "cell_type": "code",
   "execution_count": 199,
   "id": "444bd0e5",
   "metadata": {},
   "outputs": [],
   "source": [
    "with open('hw.txt') as f:\n",
    "    contents = f.read()\n"
   ]
  },
  {
   "cell_type": "code",
   "execution_count": 200,
   "id": "8fd026a9",
   "metadata": {
    "scrolled": true
   },
   "outputs": [],
   "source": [
    "hw_list= list(contents.split(\"\\n\"))\n"
   ]
  },
  {
   "cell_type": "code",
   "execution_count": 201,
   "id": "980b1f88",
   "metadata": {},
   "outputs": [],
   "source": [
    "height_lst=[]\n",
    "weight_lst=[]\n",
    "for i in range(0, len(li)):\n",
    "    if i %2 :\n",
    "        weight_lst.append(hw_list[i])\n",
    "    else:\n",
    "        height_lst.append(hw_list[i])"
   ]
  },
  {
   "cell_type": "code",
   "execution_count": 183,
   "id": "cfd84a41",
   "metadata": {},
   "outputs": [
    {
     "name": "stdout",
     "output_type": "stream",
     "text": [
      "[25.0, 31.1, 28.0, 43.6, 18.1, 44.0, 14.5, 49.6, 17.2, 68.9, 28.1, 24.2, 23.4]\n"
     ]
    }
   ],
   "source": [
    "bmi_per_hw=[]\n",
    "for i in range(len(height_lst)):\n",
    "    height= float(height_lst[i])/100\n",
    "    weight= float(weight_lst[i])*0.45\n",
    "    bmi= round(weight/(height*height),1)\n",
    "    bmi_per_hw.append(bmi)"
   ]
  },
  {
   "cell_type": "code",
   "execution_count": 186,
   "id": "ee33f5c1",
   "metadata": {},
   "outputs": [
    {
     "data": {
      "text/plain": [
       "[1, 25.0, 3, 28.0, 11, 28.1]"
      ]
     },
     "execution_count": 186,
     "metadata": {},
     "output_type": "execute_result"
    }
   ],
   "source": [
    "underWeight=[]\n",
    "normal=[]\n",
    "overWeight=[]\n",
    "obese=[]\n",
    "count=0\n",
    "for i in range(len(bmi_per_hw)):\n",
    "    if bmi_per_hw[i]< 18.5:\n",
    "        underWeight.append(i+1)\n",
    "        underWeight.append(bm[i])\n",
    "    elif 18.5<=bmi_per_hw[i]<=24.9:\n",
    "        normal.append(i+1)\n",
    "        normal.append(bm[i])\n",
    "    elif 25<=bmi_per_hw[i]<=29.9:\n",
    "        overWeight.append(i+1)\n",
    "        overWeight.append(bmi_per_hw[i])\n",
    "    else:\n",
    "        obese.append(i)\n",
    "        obese.append(bmi_per_hw[i])     "
   ]
  },
  {
   "cell_type": "code",
   "execution_count": 196,
   "id": "a7e4740c",
   "metadata": {},
   "outputs": [],
   "source": [
    "def display(lst):\n",
    "    j=0\n",
    "    k=0\n",
    "    for i in range(int((len(lst))/2)):\n",
    "        print(\"Person-\",lst[j],\": \",lst[j+1])\n",
    "        k=k+lst[j+1]\n",
    "        j=j+2\n",
    "        \n",
    "    print(\"Group Size: \", int((len(lst))/2))\n",
    "    print(\"Average BMI for this group: \",round((k/(int(len(lst))/2)),2))\n",
    "    \n",
    "    "
   ]
  },
  {
   "cell_type": "code",
   "execution_count": 198,
   "id": "07d99a13",
   "metadata": {},
   "outputs": [
    {
     "name": "stdout",
     "output_type": "stream",
     "text": [
      "Under Weight\n",
      "Person- 5 :  18.1\n",
      "Person- 7 :  14.5\n",
      "Person- 9 :  17.2\n",
      "Group Size:  3\n",
      "Average BMI for this group:  16.6\n",
      "Normal\n",
      "Person- 12 :  24.2\n",
      "Person- 13 :  23.4\n",
      "Group Size:  2\n",
      "Average BMI for this group:  23.8\n",
      "Over Weight\n",
      "Person- 1 :  25.0\n",
      "Person- 3 :  28.0\n",
      "Person- 11 :  28.1\n",
      "Group Size:  3\n",
      "Average BMI for this group:  27.03\n",
      "Obesity\n",
      "Person- 1 :  31.1\n",
      "Person- 3 :  43.6\n",
      "Person- 5 :  44.0\n",
      "Person- 7 :  49.6\n",
      "Person- 9 :  68.9\n",
      "Group Size:  5\n",
      "Average BMI for this group:  47.44\n",
      "The file has record for: 13 persons.\n",
      "Average BMI for these 13 persons is:  31.98\n"
     ]
    }
   ],
   "source": [
    "print(\"Under Weight\")\n",
    "display(uw)\n",
    "print(\"Normal\")\n",
    "display(nw)\n",
    "print(\"Over Weight\")\n",
    "display(ow)\n",
    "print(\"Obesity\")\n",
    "display(obese)\n",
    "j=0\n",
    "for i in bmi_per_hw:\n",
    "    j=i+j\n",
    "avg=round((j/len(bmi_per_hw)),2)\n",
    "print(\"The file has record for:\",len(bmi_per_hw),\"persons.\")  \n",
    "print(\"Average BMI for these\", len(bmi_per_hw),\"persons is: \", avg)"
   ]
  }
 ],
 "metadata": {
  "kernelspec": {
   "display_name": "Python 3",
   "language": "python",
   "name": "python3"
  },
  "language_info": {
   "codemirror_mode": {
    "name": "ipython",
    "version": 3
   },
   "file_extension": ".py",
   "mimetype": "text/x-python",
   "name": "python",
   "nbconvert_exporter": "python",
   "pygments_lexer": "ipython3",
   "version": "3.8.8"
  }
 },
 "nbformat": 4,
 "nbformat_minor": 5
}
